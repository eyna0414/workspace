{
 "cells": [
  {
   "cell_type": "markdown",
   "id": "960b54ab",
   "metadata": {},
   "source": [
    "# IoT 사물인터넷 with 라즈베리파이\n",
    "다음은 회사에 속한 사원들의 정보입니다.  \n",
    "주어진 코드를 이용하여 문제를 풀어보세요."
   ]
  },
  {
   "cell_type": "code",
   "execution_count": null,
   "id": "d87dac44",
   "metadata": {},
   "outputs": [],
   "source": [
    "import pandas\n",
    "import numpy as np\n",
    "data = {\n",
    "    '사원번호' : ['001', '002', '003', '004', '005', '006', '007', '008'],\n",
    "    '부서명' : ['영업부', '인사부', '개발부', '개발부','인사부', '개발부','영업부', '개발부'],\n",
    "    '사원명' : ['김자바', '이자바', '박자바', '정자바', '최자바', '강자바', '윤자바', '조자바'], # (단위 : 만 명)\n",
    "    '근속년수':[3, 5, 1, 2, 3, 8, 6, 1],\n",
    "    '사용언어':[np.nan, np.nan, 'Java', 'Python', np.nan, 'Python', np.nan, 'C#' ],\n",
    "    '키' : [176.5, 161.1, 158.9, 177.5, 182.6, 166.6, 170.8, 174.7],\n",
    "}\n",
    "#DataFrame 객체 생성\n",
    "df = pandas.DataFrame(data)\n",
    "#사원번호 컬럼을 index로 지정\n",
    "df.set_index('사원번호', inplace=True)\n",
    "df"
   ]
  },
  {
   "cell_type": "markdown",
   "id": "77001677",
   "metadata": {},
   "source": [
    "1. 전체 데이터 중 '사원명' 정보만 출력하시오."
   ]
  },
  {
   "cell_type": "code",
   "execution_count": null,
   "id": "98bf2c8b",
   "metadata": {},
   "outputs": [],
   "source": [
    "df['사원명']"
   ]
  },
  {
   "cell_type": "markdown",
   "id": "ff945732",
   "metadata": {},
   "source": [
    "2. 전체 데이터 중에서 '부서명', '사원명', '근속년수' 정보를 출력하시오."
   ]
  },
  {
   "cell_type": "code",
   "execution_count": null,
   "id": "0ba0b584",
   "metadata": {},
   "outputs": [],
   "source": [
    "df[['부서명', '사원명', '근속년수']]"
   ]
  },
  {
   "cell_type": "markdown",
   "id": "9cb6d45e",
   "metadata": {},
   "source": [
    "3. 개발부서에 속한 사원들의 '부서명', '사원명' 정보를 출력하시오."
   ]
  },
  {
   "cell_type": "code",
   "execution_count": null,
   "id": "0846bd90",
   "metadata": {},
   "outputs": [],
   "source": [
    "df.loc[df['부서명'] == '개발부', ['부서명', '사원명']]"
   ]
  },
  {
   "cell_type": "markdown",
   "id": "f91bc629",
   "metadata": {},
   "source": [
    "4. 키가 170.0 이하이거나 180.0 이상인 사원들의 '부서명', '사원명','키'를 출력하시오."
   ]
  },
  {
   "cell_type": "code",
   "execution_count": null,
   "id": "e99f425b",
   "metadata": {},
   "outputs": [],
   "source": [
    "df.loc[(df['키'] <= 170.0) | (df['키'] >= 180.0), ['부서명', '사원명', '키']]"
   ]
  },
  {
   "cell_type": "markdown",
   "id": "38e406c9",
   "metadata": {},
   "source": [
    "5. 전체 데이터를 '부서명' 기준 오름차순으로 정렬 후 '사원명' 기준 내림차순으로 정렬하여 출력하시오."
   ]
  },
  {
   "cell_type": "code",
   "execution_count": null,
   "id": "43bcb26a",
   "metadata": {},
   "outputs": [],
   "source": [
    "df.sort_values(by=['부서명', '사원명'], ascending=[True, False])"
   ]
  },
  {
   "cell_type": "markdown",
   "id": "669b1e5b",
   "metadata": {},
   "source": [
    "6. 사용언어가 'NaN' 인 데이터를 모두 '사용언어없음'으로 바꾸고, 바뀐 내용을 저장하여 출력하시오."
   ]
  },
  {
   "cell_type": "code",
   "execution_count": null,
   "id": "fd709e97",
   "metadata": {},
   "outputs": [],
   "source": [
    "df['사용언어'].fillna('사용언어없음', inplace=True)\n"
   ]
  },
  {
   "cell_type": "markdown",
   "id": "6b746c2c",
   "metadata": {},
   "source": [
    "7. 개발부에 속한 사원들 중 근속년수가 1년인 사원들의 평균 키를 출력하시오."
   ]
  },
  {
   "cell_type": "code",
   "execution_count": 40,
   "id": "b1cd1c5c",
   "metadata": {},
   "outputs": [
    {
     "data": {
      "text/plain": [
       "np.float64(166.8)"
      ]
     },
     "execution_count": 40,
     "metadata": {},
     "output_type": "execute_result"
    }
   ],
   "source": [
    "avgHeight = df.loc[(df['부서명'] == '개발부') & (df['근속년수'] == 1), '키']\n",
    "avgHeight.mean()"
   ]
  }
 ],
 "metadata": {
  "kernelspec": {
   "display_name": "Python 3",
   "language": "python",
   "name": "python3"
  },
  "language_info": {
   "codemirror_mode": {
    "name": "ipython",
    "version": 3
   },
   "file_extension": ".py",
   "mimetype": "text/x-python",
   "name": "python",
   "nbconvert_exporter": "python",
   "pygments_lexer": "ipython3",
   "version": "3.13.2"
  }
 },
 "nbformat": 4,
 "nbformat_minor": 5
}
