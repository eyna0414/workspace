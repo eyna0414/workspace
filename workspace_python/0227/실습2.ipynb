{
 "cells": [
  {
   "cell_type": "code",
   "execution_count": null,
   "metadata": {},
   "outputs": [],
   "source": [
    "del sum"
   ]
  },
  {
   "cell_type": "code",
   "execution_count": 9,
   "metadata": {},
   "outputs": [
    {
     "name": "stdout",
     "output_type": "stream",
     "text": [
      "10\n"
     ]
    }
   ],
   "source": [
    "#1. 다음 리스트에서 최대값을 구하시오.\n",
    "list1 = [3, 10, 8, 7, 5]\n",
    "\n",
    "maxData = list1[0]\n",
    "\n",
    "for e in list1:\n",
    "    if e > maxData:\n",
    "        maxData = e\n",
    "\n",
    "print(maxData)"
   ]
  },
  {
   "cell_type": "code",
   "execution_count": null,
   "metadata": {},
   "outputs": [
    {
     "name": "stdout",
     "output_type": "stream",
     "text": [
      "54\n"
     ]
    }
   ],
   "source": [
    "#2. 다음 두 리스트에 존재하는 모든 요소의 합을 구하시오.\n",
    "list2 = [1, 3, 5]\n",
    "list3 = [10, 15, 20]\n",
    "sumList = list2 + list3\n",
    "sumData = 0\n",
    "\n",
    "for e in sumList:\n",
    "  sumData += e\n",
    "\n",
    "print(sumData)\n",
    "\n",
    "print(sum(sumList))\n"
   ]
  },
  {
   "cell_type": "code",
   "execution_count": null,
   "metadata": {},
   "outputs": [
    {
     "name": "stdout",
     "output_type": "stream",
     "text": [
      "1\n",
      "2\n",
      "5\n",
      "10\n"
     ]
    }
   ],
   "source": [
    "#3. 입력받은 정수의 약수를 모두 출력하세요\n",
    "#ex> 입력 10 -> 1, 2, 5, 10\n",
    "\n",
    "num = int(input('정수 입력 : '))\n",
    "\n",
    "for e in range(1 ,num+1):\n",
    "  if(num % e == 0):\n",
    "    print(e)\n"
   ]
  },
  {
   "cell_type": "code",
   "execution_count": null,
   "metadata": {},
   "outputs": [
    {
     "name": "stdout",
     "output_type": "stream",
     "text": [
      "2 10 20\n"
     ]
    }
   ],
   "source": [
    "#4. 키보드로 입력받은 세 정수 * 2한 값을 요소로 갖는 리스트를 생성하고 출력하세요.\n",
    "#ex> 입력 : 1,5,10 -> 결과 : [2, 10, 20]\n",
    "num1 = int(input('첫번째 정수 입력 : '))\n",
    "num2 = int(input('두번째 정수 입력 : '))\n",
    "num3 = int(input('세번째 정수 입력 : '))\n",
    "\n",
    "print(num1 * 2, num2 * 2, num3 * 2)"
   ]
  },
  {
   "cell_type": "code",
   "execution_count": null,
   "metadata": {},
   "outputs": [
    {
     "name": "stdout",
     "output_type": "stream",
     "text": [
      "[2, 10, 20]\n"
     ]
    }
   ],
   "source": [
    "#4. 키보드로 입력받은 세 정수 * 2한 값을 요소로 갖는 리스트를 생성하고 출력하세요.\n",
    "#ex> 입력 : 1,5,10 -> 결과 : [2, 10, 20]\n",
    "list4=[]\n",
    "for e in range(3):\n",
    "    num = int(input(f'{e + 1}번째 정수 입력: ')) * 2\n",
    "    list4.append(num)\n",
    "\n",
    "print(list4)"
   ]
  },
  {
   "cell_type": "code",
   "execution_count": null,
   "metadata": {},
   "outputs": [],
   "source": []
  }
 ],
 "metadata": {
  "kernelspec": {
   "display_name": "Python 3",
   "language": "python",
   "name": "python3"
  },
  "language_info": {
   "codemirror_mode": {
    "name": "ipython",
    "version": 3
   },
   "file_extension": ".py",
   "mimetype": "text/x-python",
   "name": "python",
   "nbconvert_exporter": "python",
   "pygments_lexer": "ipython3",
   "version": "3.13.2"
  }
 },
 "nbformat": 4,
 "nbformat_minor": 2
}
