{
 "cells": [
  {
   "cell_type": "code",
   "execution_count": null,
   "metadata": {},
   "outputs": [],
   "source": [
    "# 딕셔너리 (dictionary)\n",
    "# 다 수의 데이터를 key와 value의 한 쌍으로 저장하는 자료형"
   ]
  },
  {
   "cell_type": "code",
   "execution_count": 1,
   "metadata": {},
   "outputs": [
    {
     "name": "stdout",
     "output_type": "stream",
     "text": [
      "{'학번': 3, '이름': '이', '점수': 80}\n"
     ]
    }
   ],
   "source": [
    "# 딕셔너리 데이터를 생성\n",
    "dic1 = {} # 빈 딕셔너리 데이터 생성\n",
    "dic2 = {\n",
    "  '학번' : 3,\n",
    "  '이름' : '김',\n",
    "  '점수' : 80,\n",
    "  '이름' : '이'\n",
    "}\n",
    "print(dic2)"
   ]
  },
  {
   "cell_type": "code",
   "execution_count": 2,
   "metadata": {},
   "outputs": [
    {
     "name": "stdout",
     "output_type": "stream",
     "text": [
      "3\n"
     ]
    }
   ],
   "source": [
    "# 딕셔너리 데이터 읽기\n",
    "print(dic2['학번'])\n"
   ]
  },
  {
   "cell_type": "code",
   "execution_count": 5,
   "metadata": {},
   "outputs": [
    {
     "name": "stdout",
     "output_type": "stream",
     "text": [
      "{'modelName': 's20', 'price': 10000, 'color': 'red'}\n",
      "{'modelName': 's20', 'price': 5000, 'color': 'red'}\n"
     ]
    }
   ],
   "source": [
    "phone = {\n",
    "  'modelName' : 's20',\n",
    "  'price' : 10000\n",
    "}\n",
    "# 딕셔너리 데이터 추가\n",
    "phone['color'] = 'red'\n",
    "print(phone)\n",
    "\n",
    "# 딕셔너리 데이터 변경\n",
    "phone['price'] = 5000\n",
    "print(phone)"
   ]
  },
  {
   "cell_type": "code",
   "execution_count": 6,
   "metadata": {},
   "outputs": [
    {
     "name": "stdout",
     "output_type": "stream",
     "text": [
      "{'brand': 'samsung', 'price': 1000}\n"
     ]
    }
   ],
   "source": [
    "# 딕셔너리 데이터 삭제\n",
    "monitor = {\n",
    "  'brand' : 'samsung',\n",
    "  'price' : 1000,\n",
    "  'color' : 'pupple'\n",
    "}\n",
    "\n",
    "\n",
    "# monitor 딕셔너리 데이터에서 color 값을 삭제\n",
    "del monitor['color']\n",
    "\n",
    "print(monitor)"
   ]
  },
  {
   "cell_type": "code",
   "execution_count": 8,
   "metadata": {},
   "outputs": [
    {
     "name": "stdout",
     "output_type": "stream",
     "text": [
      "key= brand, value = samsung\n",
      "key= price, value = 1000\n",
      "key= color, value = pupple\n"
     ]
    }
   ],
   "source": [
    "monitor = {\n",
    "  'brand' : 'samsung',\n",
    "  'price' : 1000,\n",
    "  'color' : 'pupple'\n",
    "}\n",
    "\n",
    "# 딕셔너리 데이터를 반복 돌리면 key 값만 나옴\n",
    "for e in monitor:\n",
    "  print(f'key= {e}, value = {monitor[e]}')"
   ]
  },
  {
   "cell_type": "code",
   "execution_count": null,
   "metadata": {},
   "outputs": [
    {
     "name": "stdout",
     "output_type": "stream",
     "text": [
      "운동\n",
      "독서\n",
      "등산\n",
      "3\n",
      "3\n",
      "등산\n",
      "홍아부지\n",
      "{'이름': '홍길동', '나이': 20, '취미': ['운동', '독서', '등산'], '가족': [{'관계': '아부지', '이름': '홍아부지'}, {'관계': '엄마', '이름': '홍엄마', '나이': 50}]}\n"
     ]
    }
   ],
   "source": [
    "member = {\n",
    "  '이름' : '홍길동',\n",
    "  '나이' : 20,\n",
    "  '취미' : ['운동', '독서', '등산'],\n",
    "  '가족' : [\n",
    "    {\n",
    "      '관계' : '아부지',\n",
    "      '이름' : '홍아부지'\n",
    "    }, \n",
    "    {\n",
    "      '관계' : '엄마',\n",
    "      '이름' : '홍엄마'\n",
    "    }\n",
    "  ]\n",
    "}\n",
    "\n",
    "\n",
    "\n",
    "# member 딕셔너리에서 모든 취미 출력\n",
    "for e in member['취미']:\n",
    "  print(e)\n",
    "\n",
    "print(member['취미'])\n",
    "\n",
    "# 취미의 갯수를 출력\n",
    "cnt = 0 \n",
    "for e in member['취미']:\n",
    "  cnt += 1\n",
    "print(cnt)\n",
    "\n",
    "print(len(member['취미']))\n",
    "\n",
    "# member 딕셔너리에서 마지막 취미를 출력\n",
    "\n",
    "print(member['취미'][-1])\n",
    "\n",
    "# member 딕셔너리에서 아빠의 이름을 출력\n",
    "\n",
    "print(member['가족'][0]['이름'])\n",
    "\n",
    "# member 딕셔너리에서 엄마의 나이를 추가 (나이는 50)\n",
    "\n",
    "member['가족'][1]['나이'] = 50\n",
    "print(member)\n",
    "\n",
    "\n"
   ]
  },
  {
   "cell_type": "code",
   "execution_count": null,
   "metadata": {},
   "outputs": [],
   "source": []
  },
  {
   "cell_type": "code",
   "execution_count": null,
   "metadata": {},
   "outputs": [],
   "source": []
  },
  {
   "cell_type": "code",
   "execution_count": null,
   "metadata": {},
   "outputs": [],
   "source": [
    "\n",
    "\n",
    "# 각 연령대별 인구 총합 계산\n",
    "age_groups = ['0~4세', '5~9세', '10~14세', '15~19세', '20~24세']\n",
    "total_population_by_age = {age: sum(population[age]) for age in age_groups}\n",
    "\n",
    "# 인구가 가장 많은 연령대 찾기\n",
    "max_age_group = max(total_population_by_age, key=total_population_by_age.get)\n",
    "max_age_group\n"
   ]
  },
  {
   "cell_type": "code",
   "execution_count": null,
   "metadata": {},
   "outputs": [],
   "source": [
    "# 총 인구수 계산\n",
    "total_population = sum([\n",
    "    sum(population['0~4세']),\n",
    "    sum(population['5~9세']),\n",
    "    sum(population['10~14세']),\n",
    "    sum(population['15~19세']),\n",
    "    sum(population['20~24세'])\n",
    "])\n",
    "\n",
    "# '총 인구수' 키 추가\n",
    "population['총 인구수'] = total_population\n",
    "\n",
    "# 결과 확인\n",
    "print(population)\n"
   ]
  },
  {
   "cell_type": "code",
   "execution_count": null,
   "metadata": {},
   "outputs": [],
   "source": [
    "age_groups = ['0~4세', '5~9세', '10~14세', '15~19세', '20~24세']\n",
    "\n",
    "# 각 연령대별 합을 저장할 딕셔너리\n",
    "age_totals = {}\n",
    "\n",
    "# for 문을 사용하여 각 연령대별 총합 계산\n",
    "for age_group in age_groups:\n",
    "    total = 0\n",
    "    for num in population[age_group]:  # 각 연령대 리스트의 요소를 하나씩 더하기\n",
    "        total += num\n",
    "    age_totals[age_group] = total  # 결과 저장\n",
    "\n",
    "# 결과 출력\n",
    "age_totals"
   ]
  },
  {
   "cell_type": "code",
   "execution_count": null,
   "metadata": {},
   "outputs": [],
   "source": [
    "sumHuman = [0] * len(population['행정기관'])  \n",
    "\n",
    "for e in ['0~4세', '5~9세', '10~14세', '15~19세', '20~24세']:  \n",
    "  for i in range(len(population[e])):\n",
    "    sumHuman[i] += population[e][i]\n",
    "\n",
    "population['총 인구수'] = sumHuman\n",
    "\n",
    "population"
   ]
  },
  {
   "cell_type": "code",
   "execution_count": null,
   "metadata": {},
   "outputs": [],
   "source": [
    "totalAge = [population['0~4세'], population['5~9세'], population['10~14세'], population['15~19세'], population['20~24세']]\n",
    "\n",
    "sumHuman = 0\n",
    "for e in totalAge:\n",
    "  sumHuman += sum(e)\n",
    "sumHuman\n",
    "\n",
    "\n",
    "population"
   ]
  }
 ],
 "metadata": {
  "kernelspec": {
   "display_name": "Python 3",
   "language": "python",
   "name": "python3"
  },
  "language_info": {
   "codemirror_mode": {
    "name": "ipython",
    "version": 3
   },
   "file_extension": ".py",
   "mimetype": "text/x-python",
   "name": "python",
   "nbconvert_exporter": "python",
   "pygments_lexer": "ipython3",
   "version": "3.13.2"
  }
 },
 "nbformat": 4,
 "nbformat_minor": 2
}
